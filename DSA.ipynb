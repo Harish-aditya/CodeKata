{
  "nbformat": 4,
  "nbformat_minor": 0,
  "metadata": {
    "colab": {
      "provenance": [],
      "authorship_tag": "ABX9TyNrn8l2LRUQMrR9jaWbcmUw",
      "include_colab_link": true
    },
    "kernelspec": {
      "name": "python3",
      "display_name": "Python 3"
    },
    "language_info": {
      "name": "python"
    }
  },
  "cells": [
    {
      "cell_type": "markdown",
      "metadata": {
        "id": "view-in-github",
        "colab_type": "text"
      },
      "source": [
        "<a href=\"https://colab.research.google.com/github/Harish-aditya/CodeKata/blob/master/DSA.ipynb\" target=\"_parent\"><img src=\"https://colab.research.google.com/assets/colab-badge.svg\" alt=\"Open In Colab\"/></a>"
      ]
    },
    {
      "cell_type": "code",
      "source": [],
      "metadata": {
        "id": "MTjmLBOW5K_m"
      },
      "execution_count": null,
      "outputs": []
    },
    {
      "cell_type": "markdown",
      "source": [
        "## ALGORITHM\n",
        "ALGORITHM should terminate and it should be independent of programming language\n",
        "\n"
      ],
      "metadata": {
        "id": "tRW7cOrf5Kha"
      }
    },
    {
      "cell_type": "code",
      "execution_count": null,
      "metadata": {
        "id": "XhhMbraJ40un"
      },
      "outputs": [],
      "source": [
        "# what is a efficiency\n",
        "# time and memory\n"
      ]
    },
    {
      "cell_type": "markdown",
      "source": [
        "**Time complexity analysis**\n",
        "1. I'm interested in that part of the program which is taking the maximum amount of time\n",
        "2. I'll measure time complexity in terms of magnitude.(o(something))\n",
        "3. A simple statement in my program will take unit 1.\n",
        "simple statement example: a = a+2"
      ],
      "metadata": {
        "id": "DzxasojQJ5lL"
      }
    },
    {
      "cell_type": "code",
      "source": [
        "x = 10\n",
        "y = 12\n",
        "c = x-y\n",
        "print(c) \n",
        "# here o(4)"
      ],
      "metadata": {
        "id": "H9ylc2w54tCJ"
      },
      "execution_count": null,
      "outputs": []
    },
    {
      "cell_type": "code",
      "source": [
        "n = int(input())\n",
        "for i in range(n):\n",
        "  print(\"*\")\n",
        "\n",
        "#here O(n) if n is very large the program will spend lot of time in the loop\n"
      ],
      "metadata": {
        "id": "eccAxh_XYUGz"
      },
      "execution_count": null,
      "outputs": []
    },
    {
      "cell_type": "code",
      "source": [
        "n = int(input())\n",
        "for i in range(n):\n",
        "  for j in range(n):\n",
        "    print(\"*\")\n",
        "\n",
        "# here 0(n^2) since there are two for loops."
      ],
      "metadata": {
        "id": "FNsljJKoZEuS"
      },
      "execution_count": null,
      "outputs": []
    },
    {
      "cell_type": "code",
      "source": [
        "n = int(input())\n",
        "for i in range(100):\n",
        "  print(\"*\")\n",
        "\n",
        "# here O(100) or you can write it with an constant K O(k)"
      ],
      "metadata": {
        "id": "9d3u-DfoZTEK"
      },
      "execution_count": null,
      "outputs": []
    },
    {
      "cell_type": "code",
      "source": [
        "n = int(input())\n",
        "for i in range(n):\n",
        "  print(\"*\")\n",
        "for j in range(n):\n",
        "  print(\"*\")\n",
        "# here O(2n) since there are two for's"
      ],
      "metadata": {
        "id": "HkZW8u_OZjpn"
      },
      "execution_count": null,
      "outputs": []
    },
    {
      "cell_type": "code",
      "source": [
        "n = int(input())\n",
        "m = int(input())\n",
        "for i in range(n):\n",
        "  print(\"*\")\n",
        "for j in range(m):\n",
        "  print(\"*\")\n",
        "# here O(n+m) since there are two distinct ranges.\n",
        "# we can deduce that O(max(m,n)) also"
      ],
      "metadata": {
        "id": "umDUK_i8aGdj"
      },
      "execution_count": null,
      "outputs": []
    },
    {
      "cell_type": "markdown",
      "source": [
        "O(n) means that in that particular code block which part takes the highest number of cycles or units to execute. Like degree in the algebric equations.\n",
        "\n",
        "Time complexity function is a linear function."
      ],
      "metadata": {
        "id": "Aj_sHPN0a5bc"
      }
    },
    {
      "cell_type": "code",
      "source": [
        "n = int(input())\n",
        "m = int(input())\n",
        "for i in range(n):\n",
        "  print(\"*\")\n",
        "for j in range(m):\n",
        "  for i in range(m):\n",
        "    print(\"*\")\n",
        "\n",
        "# here O(m^2+n)"
      ],
      "metadata": {
        "id": "8ejqOgZTbNGF"
      },
      "execution_count": null,
      "outputs": []
    },
    {
      "cell_type": "code",
      "source": [
        "n = int(input())\n",
        "i = 1\n",
        "count = 0\n",
        "while i < n:\n",
        "  j = n\n",
        "  count += 1\n",
        "  while j > 1:\n",
        "    a = 1\n",
        "    b = 5\n",
        "    j = j/2\n",
        "    count += 1\n",
        "  i = i*2\n",
        "print(count)"
      ],
      "metadata": {
        "colab": {
          "base_uri": "https://localhost:8080/"
        },
        "id": "wWQv3N7OcSX5",
        "outputId": "c1d8a139-16b4-4eb9-ba0d-76ac7e3acb7b"
      },
      "execution_count": 2,
      "outputs": [
        {
          "output_type": "stream",
          "name": "stdout",
          "text": [
            "3\n",
            "6\n"
          ]
        }
      ]
    },
    {
      "cell_type": "markdown",
      "source": [
        "here o(log n * log n)\n",
        "\n",
        "since for n = 4 i runs 2 times and j runs 2 times\n",
        "\n",
        "since for n = 8 i runs 3 times and j runs 3 times\n",
        "\n",
        "since for n = 16 i runs 4 times and j runs 4 times\n",
        "\n",
        "log_2 4 = log_2 2^2 = 2*log_2 2 = 2\n",
        " \n",
        "log_2 8 = log_2 2^3 = 3*log_2 2 = 3"
      ],
      "metadata": {
        "id": "ialIqxoOf-pp"
      }
    },
    {
      "cell_type": "markdown",
      "source": [
        "### Recursion"
      ],
      "metadata": {
        "id": "cRkc5KEmhaP-"
      }
    },
    {
      "cell_type": "code",
      "source": [],
      "metadata": {
        "id": "TQaXd955gy5i"
      },
      "execution_count": null,
      "outputs": []
    }
  ]
}