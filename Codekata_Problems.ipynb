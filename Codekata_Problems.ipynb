{
  "cells": [
    {
      "cell_type": "markdown",
      "metadata": {
        "id": "eNrbQrdsjSMg"
      },
      "source": [
        "debugging"
      ]
    },
    {
      "cell_type": "code",
      "execution_count": null,
      "metadata": {
        "id": "NkTYxb4ujSMk",
        "outputId": "36e99f83-3088-486e-afca-dafb1a6ca346"
      },
      "outputs": [
        {
          "name": "stdout",
          "output_type": "stream",
          "text": [
            "11\n"
          ]
        }
      ],
      "source": [
        "a,b,x=list(map(int, input().split()))\n",
        "y = (a)*(x)+(b)\n",
        "print(y)"
      ]
    },
    {
      "cell_type": "code",
      "execution_count": null,
      "metadata": {
        "id": "UGr1XIy6jSMn",
        "outputId": "a9c184d0-fb15-4f2d-986c-5227f27b58d0"
      },
      "outputs": [
        {
          "name": "stdout",
          "output_type": "stream",
          "text": [
            "7\n"
          ]
        }
      ],
      "source": [
        "n = int(input())\n",
        "list1 = list(map(int,input().split()))\n",
        "list2 = list(map(int,input().split()))\n",
        "list1.extend(list2)\n",
        "list1.sort()\n",
        "while(n>0):\n",
        " if(n > 0):\n",
        "     print(list1[n-1] + list1[n])\n",
        "     break\n",
        " else:\n",
        "     print(-1)"
      ]
    },
    {
      "cell_type": "code",
      "execution_count": null,
      "metadata": {
        "id": "SryxHj--jSMo",
        "outputId": "4f55ae55-a826-4f22-a7f3-dc155ca71b66"
      },
      "outputs": [
        {
          "name": "stdout",
          "output_type": "stream",
          "text": [
            "4\n"
          ]
        }
      ],
      "source": [
        "n=int(input())\n",
        "print(n&(n-1))\n"
      ]
    },
    {
      "cell_type": "code",
      "execution_count": null,
      "metadata": {
        "id": "HneiKjuljSMp",
        "outputId": "fa30e4c0-20c5-46eb-8ca7-74f78633d048"
      },
      "outputs": [
        {
          "ename": "TypeError",
          "evalue": "list indices must be integers or slices, not str",
          "output_type": "error",
          "traceback": [
            "\u001b[1;31m---------------------------------------------------------------------------\u001b[0m",
            "\u001b[1;31mTypeError\u001b[0m                                 Traceback (most recent call last)",
            "\u001b[1;32me:\\Guvi\\CodeKata\\Codekata_Problems.ipynb Cell 5\u001b[0m in \u001b[0;36m<cell line: 3>\u001b[1;34m()\u001b[0m\n\u001b[0;32m      <a href='vscode-notebook-cell:/e%3A/Guvi/CodeKata/Codekata_Problems.ipynb#ch0000005?line=4'>5</a>\u001b[0m         mydict[i] \u001b[39m=\u001b[39m \u001b[39m1\u001b[39m\n\u001b[0;32m      <a href='vscode-notebook-cell:/e%3A/Guvi/CodeKata/Codekata_Problems.ipynb#ch0000005?line=5'>6</a>\u001b[0m     \u001b[39melse\u001b[39;00m:\n\u001b[1;32m----> <a href='vscode-notebook-cell:/e%3A/Guvi/CodeKata/Codekata_Problems.ipynb#ch0000005?line=6'>7</a>\u001b[0m         mydict[i] \u001b[39m=\u001b[39m mylist[i] \u001b[39m+\u001b[39m \u001b[39m1\u001b[39m\n\u001b[0;32m      <a href='vscode-notebook-cell:/e%3A/Guvi/CodeKata/Codekata_Problems.ipynb#ch0000005?line=7'>8</a>\u001b[0m         anslist \u001b[39m=\u001b[39m []\n\u001b[0;32m      <a href='vscode-notebook-cell:/e%3A/Guvi/CodeKata/Codekata_Problems.ipynb#ch0000005?line=8'>9</a>\u001b[0m \u001b[39mfor\u001b[39;00m i \u001b[39min\u001b[39;00m mydict:\n",
            "\u001b[1;31mTypeError\u001b[0m: list indices must be integers or slices, not str"
          ]
        }
      ],
      "source": [
        "mylist = list(input().split())\n",
        "mydict = []\n",
        "for i in mylist:\n",
        "    if i not in mylist:\n",
        "        mydict[i] = 1\n",
        "    else:\n",
        "        mydict[i] = mylist[i] + 1\n",
        "        anslist = []\n",
        "for i in mydict:\n",
        "    anslist.append(mydict[i])\n",
        "    max_num = max(anslist)\n",
        "    numlist = []\n",
        "for i in mylist:\n",
        "    if mylist[i]==max_num:\n",
        "        numlist.append(i)\n",
        "        numlist = sorted(numlist)\n",
        "print(numlist[2],max_num)\n"
      ]
    },
    {
      "cell_type": "markdown",
      "metadata": {
        "id": "WML5jfozjSMq"
      },
      "source": [
        "You are given a number ‘n’. You have to tell whether a number is great or not. A great number is a number whose sum of digits let (m) and product of digits let(j) when summed together gives the number back\n",
        "\n",
        "m+j=n\n",
        "\n",
        " \n",
        "\n",
        "Input Description:\n",
        "You are given a number n;\n",
        "\n",
        "Output Description:\n",
        "Print Great if a number is great else print the no\n",
        "\n",
        "Sample Input :\n",
        "59\n",
        "Sample Output :\n",
        "Great"
      ]
    },
    {
      "cell_type": "code",
      "execution_count": null,
      "metadata": {
        "id": "Wq1TSxeCjSMz",
        "outputId": "9980bad2-fe76-45da-9e0b-b3590126f9b6"
      },
      "outputs": [
        {
          "name": "stdout",
          "output_type": "stream",
          "text": [
            "14\n",
            "45\n",
            "Great\n"
          ]
        }
      ],
      "source": [
        "n = input()\n",
        "x = [int(i) for i in n]\n",
        "\n",
        "def great(y):\n",
        "    m = y[0]+y[1]\n",
        "    j = y[0]*y[1]\n",
        "    return m+j\n",
        "\n",
        "if great(x) == int(n):\n",
        "    print('Great')\n",
        "else:\n",
        "    print('no')"
      ]
    },
    {
      "cell_type": "markdown",
      "metadata": {
        "id": "MnQR4drcjSM0"
      },
      "source": [
        "Given 3 numbers a,b,c print a*b mod c.\n",
        "Sample Testcase :\n",
        "INPUT\n",
        "5 3 2\n",
        "OUTPUT\n",
        "1"
      ]
    },
    {
      "cell_type": "code",
      "execution_count": null,
      "metadata": {
        "id": "N9T2IJgMjSM0",
        "outputId": "755933d0-3cdc-44b8-c35a-922427e56632"
      },
      "outputs": [
        {
          "name": "stdout",
          "output_type": "stream",
          "text": [
            "1\n"
          ]
        }
      ],
      "source": [
        "x = input()\n",
        "x = x.split(' ')\n",
        "x = [int(i) for i in x]\n",
        "a,b,c = map(lambda x:x, x)\n",
        "print(a * b % c)"
      ]
    },
    {
      "cell_type": "markdown",
      "metadata": {
        "id": "49Obta-6jSM0"
      },
      "source": [
        "You are provided with a number ’n’. Your task is to tell whether that number is saturated. A saturated number is a number which is made by exactly two digits.\n",
        "\n",
        "Input Description:\n",
        "You are given with a number n.\n",
        "\n",
        "Output Description:\n",
        "Print Saturated if it is saturated else it is Unsaturated\n",
        "\n",
        "Sample Input :\n",
        "121\n",
        "Sample Output :\n",
        "Saturated"
      ]
    },
    {
      "cell_type": "code",
      "execution_count": null,
      "metadata": {
        "id": "FVNmrHvajSM2",
        "outputId": "00ad91b6-9bd5-4841-d7e0-37be1d0b1f55"
      },
      "outputs": [
        {
          "name": "stdout",
          "output_type": "stream",
          "text": [
            "Saturated\n"
          ]
        }
      ],
      "source": [
        "import numpy as np\n",
        "x = input()\n",
        "x1 = []\n",
        "for i in x:\n",
        "    x1.append(int(i))\n",
        "x1 = np.unique(x1)\n",
        "if len(x1) == 2:\n",
        "    print('Saturated')\n",
        "else:\n",
        "    print('Unstaturated')\n"
      ]
    },
    {
      "cell_type": "code",
      "execution_count": null,
      "metadata": {
        "id": "EdYGFYy1jSM3",
        "outputId": "f3c3f987-9010-4497-a9ad-75ab2dd6e4ba"
      },
      "outputs": [
        {
          "ename": "TypeError",
          "evalue": "list indices must be integers or slices, not str",
          "output_type": "error",
          "traceback": [
            "\u001b[1;31m---------------------------------------------------------------------------\u001b[0m",
            "\u001b[1;31mTypeError\u001b[0m                                 Traceback (most recent call last)",
            "\u001b[1;32mf:\\Guvi\\CodeKata\\Codekata_Problems.ipynb Cell 12\u001b[0m in \u001b[0;36m<cell line: 3>\u001b[1;34m()\u001b[0m\n\u001b[0;32m      <a href='vscode-notebook-cell:/f%3A/Guvi/CodeKata/Codekata_Problems.ipynb#X14sZmlsZQ%3D%3D?line=4'>5</a>\u001b[0m         mydict[i] \u001b[39m=\u001b[39m \u001b[39m1\u001b[39m\n\u001b[0;32m      <a href='vscode-notebook-cell:/f%3A/Guvi/CodeKata/Codekata_Problems.ipynb#X14sZmlsZQ%3D%3D?line=5'>6</a>\u001b[0m     \u001b[39melse\u001b[39;00m:\n\u001b[1;32m----> <a href='vscode-notebook-cell:/f%3A/Guvi/CodeKata/Codekata_Problems.ipynb#X14sZmlsZQ%3D%3D?line=6'>7</a>\u001b[0m         mydict[i] \u001b[39m=\u001b[39m mylist[i] \u001b[39m+\u001b[39m \u001b[39m1\u001b[39m\n\u001b[0;32m      <a href='vscode-notebook-cell:/f%3A/Guvi/CodeKata/Codekata_Problems.ipynb#X14sZmlsZQ%3D%3D?line=7'>8</a>\u001b[0m         anslist \u001b[39m=\u001b[39m []\n\u001b[0;32m      <a href='vscode-notebook-cell:/f%3A/Guvi/CodeKata/Codekata_Problems.ipynb#X14sZmlsZQ%3D%3D?line=8'>9</a>\u001b[0m \u001b[39mfor\u001b[39;00m i \u001b[39min\u001b[39;00m mydict:\n",
            "\u001b[1;31mTypeError\u001b[0m: list indices must be integers or slices, not str"
          ]
        }
      ],
      "source": [
        "mylist = list(input().split())\n",
        "mydict = []\n",
        "for i in mylist:\n",
        "    if i not in mylist:\n",
        "        mydict[i] = 1\n",
        "    else:\n",
        "        mydict[i] = mylist[i] + 1\n",
        "        anslist = []\n",
        "for i in mydict:\n",
        "    anslist.append(mydict[i])\n",
        "    max_num = max(anslist)\n",
        "    numlist = []\n",
        "for i in mylist:\n",
        "    if mylist[i]==max_num:\n",
        "        numlist.append(i)\n",
        "        numlist = sorted(numlist)\n",
        "print(numlist[2],max_num)\n"
      ]
    },
    {
      "cell_type": "code",
      "source": [
        "x = int(input())\n",
        "y = input()\n",
        "y = [int(i) for i in y.split(\" \")]\n",
        "# print(y)\n",
        "z = []\n",
        "for i in y:\n",
        "  z.append(bin(i).replace(\"0b\",\"\"))\n",
        "# print(z)\n",
        "f = []\n",
        "q = []\n",
        "for i in z:\n",
        "  count = sum(map(lambda x : 1 if '1' in x else 0, i))\n",
        "  if count == 2:\n",
        "    f.append(i)\n",
        "  elif count == 1:\n",
        "    q.append(i)\n",
        "z = f+q\n",
        "op = []\n",
        "for i in z:\n",
        "  op.append(int(i,2))\n",
        "for i in op:\n",
        "  print(i,end = \" \") n"
      ],
      "metadata": {
        "id": "T0f_co1DmUXW",
        "outputId": "51bccb27-f8b3-4fdf-d892-2e15d6d33098",
        "colab": {
          "base_uri": "https://localhost:8080/"
        }
      },
      "execution_count": null,
      "outputs": [
        {
          "output_type": "stream",
          "name": "stdout",
          "text": [
            "6\n",
            "1 2 3 4 5 6\n",
            "3 5 6 1 2 4 "
          ]
        }
      ]
    },
    {
      "cell_type": "markdown",
      "source": [
        "You are given a number with duplicate digits your task is to remove the immediate duplicate digits and print the result\n",
        "\n",
        "Input Description:\n",
        "You are given a long string of digits\n",
        "\n",
        "Output Description:\n",
        "Print the desired result print -1 if result length is 0\n",
        "\n",
        "Sample Input :\n",
        "1331\n",
        "Sample Output :\n",
        "11"
      ],
      "metadata": {
        "id": "JpOI_K_O_zX0"
      }
    },
    {
      "cell_type": "code",
      "source": [
        "n = input()\n",
        "n = [i for i in n]\n",
        "for i in range(len(n)):\n",
        "  if n[i] == n[i-1]:\n",
        "    n.replace(n[i],'')\n",
        "  else:\n",
        "    pass\n",
        "\n",
        "print(n)"
      ],
      "metadata": {
        "id": "Uxmh5PYbos4T",
        "outputId": "0aa3b3be-d02c-4b8a-a0c4-683ac139c82f",
        "colab": {
          "base_uri": "https://localhost:8080/",
          "height": 252
        }
      },
      "execution_count": 8,
      "outputs": [
        {
          "name": "stdout",
          "output_type": "stream",
          "text": [
            "1331\n"
          ]
        },
        {
          "output_type": "error",
          "ename": "AttributeError",
          "evalue": "ignored",
          "traceback": [
            "\u001b[0;31m---------------------------------------------------------------------------\u001b[0m",
            "\u001b[0;31mAttributeError\u001b[0m                            Traceback (most recent call last)",
            "\u001b[0;32m<ipython-input-8-376876e733a8>\u001b[0m in \u001b[0;36m<module>\u001b[0;34m\u001b[0m\n\u001b[1;32m      3\u001b[0m \u001b[0;32mfor\u001b[0m \u001b[0mi\u001b[0m \u001b[0;32min\u001b[0m \u001b[0mrange\u001b[0m\u001b[0;34m(\u001b[0m\u001b[0mlen\u001b[0m\u001b[0;34m(\u001b[0m\u001b[0mn\u001b[0m\u001b[0;34m)\u001b[0m\u001b[0;34m)\u001b[0m\u001b[0;34m:\u001b[0m\u001b[0;34m\u001b[0m\u001b[0;34m\u001b[0m\u001b[0m\n\u001b[1;32m      4\u001b[0m   \u001b[0;32mif\u001b[0m \u001b[0mn\u001b[0m\u001b[0;34m[\u001b[0m\u001b[0mi\u001b[0m\u001b[0;34m]\u001b[0m \u001b[0;34m==\u001b[0m \u001b[0mn\u001b[0m\u001b[0;34m[\u001b[0m\u001b[0mi\u001b[0m\u001b[0;34m-\u001b[0m\u001b[0;36m1\u001b[0m\u001b[0;34m]\u001b[0m\u001b[0;34m:\u001b[0m\u001b[0;34m\u001b[0m\u001b[0;34m\u001b[0m\u001b[0m\n\u001b[0;32m----> 5\u001b[0;31m     \u001b[0mn\u001b[0m\u001b[0;34m.\u001b[0m\u001b[0mreplace\u001b[0m\u001b[0;34m(\u001b[0m\u001b[0mn\u001b[0m\u001b[0;34m[\u001b[0m\u001b[0mi\u001b[0m\u001b[0;34m]\u001b[0m\u001b[0;34m,\u001b[0m\u001b[0;34m''\u001b[0m\u001b[0;34m)\u001b[0m\u001b[0;34m\u001b[0m\u001b[0;34m\u001b[0m\u001b[0m\n\u001b[0m\u001b[1;32m      6\u001b[0m   \u001b[0;32melse\u001b[0m\u001b[0;34m:\u001b[0m\u001b[0;34m\u001b[0m\u001b[0;34m\u001b[0m\u001b[0m\n\u001b[1;32m      7\u001b[0m     \u001b[0;32mpass\u001b[0m\u001b[0;34m\u001b[0m\u001b[0;34m\u001b[0m\u001b[0m\n",
            "\u001b[0;31mAttributeError\u001b[0m: 'list' object has no attribute 'replace'"
          ]
        }
      ]
    },
    {
      "cell_type": "code",
      "source": [],
      "metadata": {
        "id": "mgvxpeMIAQtV"
      },
      "execution_count": null,
      "outputs": []
    }
  ],
  "metadata": {
    "kernelspec": {
      "display_name": "Python 3.10.6 64-bit (windows store)",
      "language": "python",
      "name": "python3"
    },
    "language_info": {
      "codemirror_mode": {
        "name": "ipython",
        "version": 3
      },
      "file_extension": ".py",
      "mimetype": "text/x-python",
      "name": "python",
      "nbconvert_exporter": "python",
      "pygments_lexer": "ipython3",
      "version": "3.10.6"
    },
    "orig_nbformat": 4,
    "vscode": {
      "interpreter": {
        "hash": "3bdefd094ccb8bd3365ae8c21bf36ef46047804461a4c589742842225130b2b8"
      }
    },
    "colab": {
      "provenance": []
    }
  },
  "nbformat": 4,
  "nbformat_minor": 0
}