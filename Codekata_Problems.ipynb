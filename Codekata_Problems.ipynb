{
 "cells": [
  {
   "cell_type": "markdown",
   "metadata": {},
   "source": [
    "debugging"
   ]
  },
  {
   "cell_type": "code",
   "execution_count": 8,
   "metadata": {},
   "outputs": [
    {
     "name": "stdout",
     "output_type": "stream",
     "text": [
      "11\n"
     ]
    }
   ],
   "source": [
    "a,b,x=list(map(int, input().split()))\n",
    "y = (a)*(x)+(b)\n",
    "print(y)"
   ]
  },
  {
   "cell_type": "code",
   "execution_count": 14,
   "metadata": {},
   "outputs": [
    {
     "name": "stdout",
     "output_type": "stream",
     "text": [
      "7\n"
     ]
    }
   ],
   "source": [
    "n = int(input())\n",
    "list1 = list(map(int,input().split()))\n",
    "list2 = list(map(int,input().split()))\n",
    "list1.extend(list2)\n",
    "list1.sort()\n",
    "while(n>0):\n",
    " if(n > 0):\n",
    "     print(list1[n-1] + list1[n])\n",
    "     break\n",
    " else:\n",
    "     print(-1)"
   ]
  },
  {
   "cell_type": "markdown",
   "metadata": {},
   "source": []
  }
 ],
 "metadata": {
  "kernelspec": {
   "display_name": "Python 3.10.5 64-bit",
   "language": "python",
   "name": "python3"
  },
  "language_info": {
   "codemirror_mode": {
    "name": "ipython",
    "version": 3
   },
   "file_extension": ".py",
   "mimetype": "text/x-python",
   "name": "python",
   "nbconvert_exporter": "python",
   "pygments_lexer": "ipython3",
   "version": "3.10.5"
  },
  "orig_nbformat": 4,
  "vscode": {
   "interpreter": {
    "hash": "3d10749cc12296be2bf26a84d2191522710cb7ba0ea1a382b60e9d238ccc9e0c"
   }
  }
 },
 "nbformat": 4,
 "nbformat_minor": 2
}
