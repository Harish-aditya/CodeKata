{
 "cells": [
  {
   "cell_type": "markdown",
   "metadata": {},
   "source": [
    "debugging"
   ]
  },
  {
   "cell_type": "code",
   "execution_count": 8,
   "metadata": {},
   "outputs": [
    {
     "name": "stdout",
     "output_type": "stream",
     "text": [
      "11\n"
     ]
    }
   ],
   "source": [
    "a,b,x=list(map(int, input().split()))\n",
    "y = (a)*(x)+(b)\n",
    "print(y)"
   ]
  },
  {
   "cell_type": "code",
   "execution_count": 14,
   "metadata": {},
   "outputs": [
    {
     "name": "stdout",
     "output_type": "stream",
     "text": [
      "7\n"
     ]
    }
   ],
   "source": [
    "n = int(input())\n",
    "list1 = list(map(int,input().split()))\n",
    "list2 = list(map(int,input().split()))\n",
    "list1.extend(list2)\n",
    "list1.sort()\n",
    "while(n>0):\n",
    " if(n > 0):\n",
    "     print(list1[n-1] + list1[n])\n",
    "     break\n",
    " else:\n",
    "     print(-1)"
   ]
  },
  {
   "cell_type": "code",
   "execution_count": 17,
   "metadata": {},
   "outputs": [
    {
     "name": "stdout",
     "output_type": "stream",
     "text": [
      "4\n"
     ]
    }
   ],
   "source": [
    "n=int(input())\n",
    "print(n&(n-1))\n"
   ]
  },
  {
   "cell_type": "code",
   "execution_count": 18,
   "metadata": {},
   "outputs": [
    {
     "ename": "TypeError",
     "evalue": "list indices must be integers or slices, not str",
     "output_type": "error",
     "traceback": [
      "\u001b[1;31m---------------------------------------------------------------------------\u001b[0m",
      "\u001b[1;31mTypeError\u001b[0m                                 Traceback (most recent call last)",
      "\u001b[1;32me:\\Guvi\\CodeKata\\Codekata_Problems.ipynb Cell 5\u001b[0m in \u001b[0;36m<cell line: 3>\u001b[1;34m()\u001b[0m\n\u001b[0;32m      <a href='vscode-notebook-cell:/e%3A/Guvi/CodeKata/Codekata_Problems.ipynb#ch0000005?line=4'>5</a>\u001b[0m         mydict[i] \u001b[39m=\u001b[39m \u001b[39m1\u001b[39m\n\u001b[0;32m      <a href='vscode-notebook-cell:/e%3A/Guvi/CodeKata/Codekata_Problems.ipynb#ch0000005?line=5'>6</a>\u001b[0m     \u001b[39melse\u001b[39;00m:\n\u001b[1;32m----> <a href='vscode-notebook-cell:/e%3A/Guvi/CodeKata/Codekata_Problems.ipynb#ch0000005?line=6'>7</a>\u001b[0m         mydict[i] \u001b[39m=\u001b[39m mylist[i] \u001b[39m+\u001b[39m \u001b[39m1\u001b[39m\n\u001b[0;32m      <a href='vscode-notebook-cell:/e%3A/Guvi/CodeKata/Codekata_Problems.ipynb#ch0000005?line=7'>8</a>\u001b[0m         anslist \u001b[39m=\u001b[39m []\n\u001b[0;32m      <a href='vscode-notebook-cell:/e%3A/Guvi/CodeKata/Codekata_Problems.ipynb#ch0000005?line=8'>9</a>\u001b[0m \u001b[39mfor\u001b[39;00m i \u001b[39min\u001b[39;00m mydict:\n",
      "\u001b[1;31mTypeError\u001b[0m: list indices must be integers or slices, not str"
     ]
    }
   ],
   "source": [
    "mylist = list(input().split())\n",
    "mydict = []\n",
    "for i in mylist:\n",
    "    if i not in mylist:\n",
    "        mydict[i] = 1\n",
    "    else:\n",
    "        mydict[i] = mylist[i] + 1\n",
    "        anslist = []\n",
    "for i in mydict:\n",
    "    anslist.append(mydict[i])\n",
    "    max_num = max(anslist)\n",
    "    numlist = []\n",
    "for i in mylist:\n",
    "    if mylist[i]==max_num:\n",
    "        numlist.append(i)\n",
    "        numlist = sorted(numlist)\n",
    "print(numlist[2],max_num)\n"
   ]
  },
  {
   "cell_type": "markdown",
   "metadata": {},
   "source": [
    "You are given a number ‘n’. You have to tell whether a number is great or not. A great number is a number whose sum of digits let (m) and product of digits let(j) when summed together gives the number back\n",
    "\n",
    "m+j=n\n",
    "\n",
    " \n",
    "\n",
    "Input Description:\n",
    "You are given a number n;\n",
    "\n",
    "Output Description:\n",
    "Print Great if a number is great else print the no\n",
    "\n",
    "Sample Input :\n",
    "59\n",
    "Sample Output :\n",
    "Great"
   ]
  },
  {
   "cell_type": "code",
   "execution_count": 11,
   "metadata": {},
   "outputs": [
    {
     "name": "stdout",
     "output_type": "stream",
     "text": [
      "14\n",
      "45\n",
      "Great\n"
     ]
    }
   ],
   "source": [
    "n = input()\n",
    "x = [int(i) for i in n]\n",
    "\n",
    "def great(y):\n",
    "    m = y[0]+y[1]\n",
    "    j = y[0]*y[1]\n",
    "    return m+j\n",
    "\n",
    "if great(x) == int(n):\n",
    "    print('Great')\n",
    "else:\n",
    "    print('no')"
   ]
  },
  {
   "cell_type": "markdown",
   "metadata": {},
   "source": [
    "Given 3 numbers a,b,c print a*b mod c.\n",
    "Sample Testcase :\n",
    "INPUT\n",
    "5 3 2\n",
    "OUTPUT\n",
    "1"
   ]
  },
  {
   "cell_type": "code",
   "execution_count": null,
   "metadata": {},
   "outputs": [],
   "source": []
  }
 ],
 "metadata": {
  "kernelspec": {
   "display_name": "Python 3.10.5 64-bit",
   "language": "python",
   "name": "python3"
  },
  "language_info": {
   "codemirror_mode": {
    "name": "ipython",
    "version": 3
   },
   "file_extension": ".py",
   "mimetype": "text/x-python",
   "name": "python",
   "nbconvert_exporter": "python",
   "pygments_lexer": "ipython3",
   "version": "3.10.5"
  },
  "orig_nbformat": 4,
  "vscode": {
   "interpreter": {
    "hash": "3d10749cc12296be2bf26a84d2191522710cb7ba0ea1a382b60e9d238ccc9e0c"
   }
  }
 },
 "nbformat": 4,
 "nbformat_minor": 2
}
